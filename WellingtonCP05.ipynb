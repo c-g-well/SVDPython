{
 "cells": [
  {
   "cell_type": "code",
   "execution_count": 1,
   "metadata": {},
   "outputs": [],
   "source": [
    "import numpy as np\n",
    "from numpy.linalg import svd\n",
    "import os\n",
    "from PIL import Image\n",
    "import matplotlib.pyplot as plt\n",
    "\n",
    "\n"
   ]
  },
  {
   "cell_type": "code",
   "execution_count": 2,
   "metadata": {},
   "outputs": [
    {
     "name": "stdout",
     "output_type": "stream",
     "text": [
      "1:04.png\n"
     ]
    },
    {
     "data": {
      "text/plain": [
       "784"
      ]
     },
     "execution_count": 2,
     "metadata": {},
     "output_type": "execute_result"
    }
   ],
   "source": [
    "len(os.listdir('CP05/DigitFiles/Digit0'))\n",
    "print(f'1:04.png')\n",
    "digit = 0\n",
    "image_file = f'{3:04}.png'\n",
    "img = Image.open(f'CP05/DigitFiles/Digit{digit}/{image_file}')\n",
    "img = np.array(img.convert('L')).flatten()\n",
    "img.size\n"
   ]
  },
  {
   "cell_type": "code",
   "execution_count": 3,
   "metadata": {},
   "outputs": [],
   "source": [
    "svTol = 0.10\n",
    "svd_basis = {}  # dictionary to store the SVD basis for each digit\n",
    "for digit in range(10):\n",
    "    image_files = os.listdir(f'CP05/DigitFiles/Digit{digit}')\n",
    "    images = []\n",
    "    # num_image_files = len(os.listdir(f'CP05/DigitFiles/Digit{digit}'))\n",
    "    num_image_files = 200\n",
    "    for i in range(1, num_image_files):\n",
    "        image_file = f'{i:04}.png'\n",
    "        img = Image.open(f'CP05/DigitFiles/Digit{digit}/{image_file}')\n",
    "        img = np.array(img.convert('L')).flatten()\n",
    "        images.append(img)  \n",
    "        A = np.array(images)\n",
    "        U, S, V = svd(A, full_matrices=False)\n",
    "        cumsum = np.cumsum(S)\n",
    "        k = np.argmax(cumsum / cumsum[-1] > svTol)\n",
    "        svd_basis[digit] = U[:, :k]\n"
   ]
  },
  {
   "cell_type": "code",
   "execution_count": 4,
   "metadata": {},
   "outputs": [
    {
     "name": "stdout",
     "output_type": "stream",
     "text": [
      "[286, 185, 305, 292, 286, 290, 263, 272, 274, 256]\n"
     ]
    }
   ],
   "source": [
    "\n",
    "# Get the list of directories in the DigitFiles folder\n",
    "digit_dirs = os.listdir('CP05/DigitFiles')\n",
    "\n",
    "# Initialize variables for digits 0 to 9\n",
    "A = [None]*10\n",
    "U = [None]*10\n",
    "S = [None]*10\n",
    "V = [None]*10  # changed from B to V\n",
    "k_values = [0]*10\n",
    "\n",
    "# Loop over each digit directory\n",
    "for digit_dir in digit_dirs:\n",
    "    digit = int(digit_dir[-1])  # get the digit from the directory name\n",
    "    \n",
    "    # Get the list of image file names in the digit's directory\n",
    "    image_files = os.listdir(f'CP05/DigitFiles/{digit_dir}')\n",
    "    \n",
    "    for i, image_file in enumerate(image_files):\n",
    "        img = Image.open(f'CP05/DigitFiles/{digit_dir}/{image_file}')\n",
    "        img_array = np.array(img.convert('L')).flatten()\n",
    "        \n",
    "        # Initialize A[digit] with the size of the first image\n",
    "        if i == 0:\n",
    "            A[digit] = np.zeros((img_array.size, len(image_files)))\n",
    "        \n",
    "        A[digit][:, i] = img_array\n",
    "\n",
    "    U[digit], S[digit], V[digit] = np.linalg.svd(A[digit])  # changed from U, S, _ to U, S, V\n",
    "    \n",
    "    # Determine the value of k for the current digit\n",
    "    svdTol = 0.9\n",
    "    sigmaAll = np.sum(S[digit][:min(img_array.size, len(image_files))])  # corrected line\n",
    "    sigmaK = 0\n",
    "    for i in range(np.shape(S[digit])[0]):\n",
    "        sigmaK = sigmaK + S[digit][i]  # corrected line\n",
    "        if sigmaK / sigmaAll > svdTol:\n",
    "            k_values[digit] = i\n",
    "            break\n",
    "\n",
    "print(k_values)  # Display the values of k for digits 0 to 9\n"
   ]
  },
  {
   "cell_type": "code",
   "execution_count": 5,
   "metadata": {},
   "outputs": [],
   "source": [
    "\n",
    "\n",
    "def myClassifyDigits(svTol, nImgs):\n",
    "    # Get the list of directories in the DigitFiles folder\n",
    "    digit_dirs = os.listdir('CP05/DigitFiles')\n",
    "\n",
    "    # Initialize variables for digits 0 to 9\n",
    "    A = [None]*10\n",
    "    U = [None]*10\n",
    "    S = [None]*10\n",
    "    V = [None]*10\n",
    "    k_values = [0]*10\n",
    "    w = list(range(10))  # w is a list of digits from 0 to 9\n",
    "    nDigits = np.zeros(10)\n",
    "\n",
    "    # Loop over each digit directory\n",
    "    for digit_dir in digit_dirs:\n",
    "        digit = int(digit_dir[-1])  # get the digit from the directory name\n",
    "\n",
    "        # Get the list of image file names in the digit's directory\n",
    "        image_files = os.listdir(f'CP05/DigitFiles/{digit_dir}')[:nImgs]\n",
    "\n",
    "        for i, image_file in enumerate(image_files):\n",
    "            img = Image.open(f'CP05/DigitFiles/{digit_dir}/{image_file}')\n",
    "            img_array = np.array(img.convert('L')).flatten()\n",
    "\n",
    "            # Initialize A[digit] with the size of the first image\n",
    "            if i == 0:\n",
    "                A[digit] = np.zeros((img_array.size, len(image_files)))\n",
    "\n",
    "            A[digit][:, i] = img_array\n",
    "\n",
    "        U[digit], S[digit], V[digit] = np.linalg.svd(A[digit])\n",
    "\n",
    "        # Determine the value of k for the current digit\n",
    "        sigmaAll = np.sum(S[digit][:min(img_array.size, len(image_files))])\n",
    "        sigmaK = 0\n",
    "        for i in range(np.shape(S[digit])[0]):\n",
    "            sigmaK = sigmaK + S[digit][i]\n",
    "            if sigmaK / sigmaAll > svTol:\n",
    "                k_values[digit] = i\n",
    "                break\n",
    "\n",
    "    # Function to classify a test image\n",
    "    def classify(test_image, U, S, V, k_values):\n",
    "        # Initialize variables\n",
    "        min_residual = np.inf\n",
    "        digit_pred = None\n",
    "\n",
    "        # Loop over each digit\n",
    "        for digit in range(10):\n",
    "            # Project the test image onto the space spanned by the first k singular vectors of the digit\n",
    "            projection = np.dot(np.transpose(U[digit][:, :k_values[digit]]), test_image)\n",
    "\n",
    "            # Reconstruct the image\n",
    "            reconstruction = np.dot(U[digit][:, :k_values[digit]], projection)\n",
    "\n",
    "            # Calculate the relative residual of the difference between the test image and the reconstruction\n",
    "            residual = np.linalg.norm(test_image - reconstruction) / np.linalg.norm(test_image)\n",
    "\n",
    "            # If the residual is smaller than the current minimum, update the minimum and the predicted digit\n",
    "            if residual < min_residual:\n",
    "                min_residual = residual\n",
    "                digit_pred = digit\n",
    "\n",
    "        return digit_pred\n",
    "\n",
    "    # Loop over each digit directory in the TestDigits directory\n",
    "    test_digit_dirs = os.listdir('CP05/TestDigits')\n",
    "    for digit_dir in test_digit_dirs:\n",
    "        digit = int(digit_dir[-1])  # get the digit from the directory name\n",
    "\n",
    "        # Loop over each image in the digit directory\n",
    "        test_files = os.listdir(f'CP05/TestDigits/{digit_dir}')[:nImgs]\n",
    "        for i, image_file in enumerate(test_files):\n",
    "            img = Image.open(f'CP05/TestDigits/{digit_dir}/{image_file}')\n",
    "            img_array = np.array(img.convert('L')).flatten()\n",
    "\n",
    "            # Classify the test image\n",
    "            digit_pred = classify(img_array, U, S, V, k_values)\n",
    "\n",
    "            # Update nDigits\n",
    "            nDigits[digit_pred] += 1\n",
    "\n",
    "    return w, nDigits\n"
   ]
  },
  {
   "cell_type": "code",
   "execution_count": 6,
   "metadata": {},
   "outputs": [
    {
     "data": {
      "text/plain": [
       "([0, 1, 2, 3, 4, 5, 6, 7, 8, 9],\n",
       " array([ 86.,  99., 101.,  87., 109., 124., 101.,  92., 107.,  94.]))"
      ]
     },
     "execution_count": 6,
     "metadata": {},
     "output_type": "execute_result"
    }
   ],
   "source": [
    "myClassifyDigits(0.2,100)"
   ]
  },
  {
   "cell_type": "code",
   "execution_count": 7,
   "metadata": {},
   "outputs": [
    {
     "data": {
      "text/plain": [
       "([0, 1, 2, 3, 4, 5, 6, 7, 8, 9],\n",
       " array([100., 100., 100., 100., 100., 100., 100., 100., 100., 100.]))"
      ]
     },
     "execution_count": 7,
     "metadata": {},
     "output_type": "execute_result"
    }
   ],
   "source": [
    "myClassifyDigits(0.6,100)"
   ]
  }
 ],
 "metadata": {
  "kernelspec": {
   "display_name": ".venv",
   "language": "python",
   "name": "python3"
  },
  "language_info": {
   "codemirror_mode": {
    "name": "ipython",
    "version": 3
   },
   "file_extension": ".py",
   "mimetype": "text/x-python",
   "name": "python",
   "nbconvert_exporter": "python",
   "pygments_lexer": "ipython3",
   "version": "3.11.2"
  }
 },
 "nbformat": 4,
 "nbformat_minor": 2
}
